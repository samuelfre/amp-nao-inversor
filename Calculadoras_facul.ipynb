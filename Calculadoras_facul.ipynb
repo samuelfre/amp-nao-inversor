{
  "nbformat": 4,
  "nbformat_minor": 0,
  "metadata": {
    "colab": {
      "provenance": [],
      "authorship_tag": "ABX9TyOfHd819EgNAdKCigtdwqO/",
      "include_colab_link": true
    },
    "kernelspec": {
      "name": "python3",
      "display_name": "Python 3"
    },
    "language_info": {
      "name": "python"
    }
  },
  "cells": [
    {
      "cell_type": "markdown",
      "metadata": {
        "id": "view-in-github",
        "colab_type": "text"
      },
      "source": [
        "<a href=\"https://colab.research.google.com/github/samuelfre/amp-nao-inversor/blob/main/Calculadoras_facul.ipynb\" target=\"_parent\"><img src=\"https://colab.research.google.com/assets/colab-badge.svg\" alt=\"Open In Colab\"/></a>"
      ]
    },
    {
      "cell_type": "code",
      "execution_count": 24,
      "metadata": {
        "id": "xRYk-N1WBEY2"
      },
      "outputs": [],
      "source": [
        "# Configuração de simulação LT-SPICE\n",
        "# Apenas substituir os valores desse bloco de código. Esse é o do amplificador não inversor.\n",
        "# PODE ESTAR ERRADO...\n",
        "# Créditos: Samuka :)\n",
        "\n",
        "freq = 300 # Frequência\n",
        "per = 1 / freq # Período\n",
        "n_point = 50 # Número de pontos\n",
        "parametro_Stop_Time = 9 # Parâmetro usado para calcular stop_time\n",
        "parametro_time_to_start_saving_data = 6 # Parâmetro usado para calcular time_to_start_saving_data"
      ]
    },
    {
      "cell_type": "code",
      "source": [
        "stop_time = parametro_Stop_Time*per\n",
        "time_to_start_saving_data = parametro_time_to_start_saving_data*per\n",
        "maximum_timestep = per / n_point"
      ],
      "metadata": {
        "id": "UPvKRUbKCU9j"
      },
      "execution_count": 25,
      "outputs": []
    },
    {
      "cell_type": "code",
      "source": [
        "print(\"stop_time: \", stop_time)\n",
        "print(\"time_to_start_saving_data:\", time_to_start_saving_data)\n",
        "print(\"maximum_timestep: \", maximum_timestep)"
      ],
      "metadata": {
        "colab": {
          "base_uri": "https://localhost:8080/"
        },
        "id": "Xs8z6O7RMvyF",
        "outputId": "107f5feb-54e4-4bb2-9e2b-36ffc756b849"
      },
      "execution_count": 26,
      "outputs": [
        {
          "output_type": "stream",
          "name": "stdout",
          "text": [
            "stop_time:  0.030000000000000002\n",
            "time_to_start_saving_data: 0.02\n",
            "maximum_timestep:  6.666666666666667e-05\n"
          ]
        }
      ]
    },
    {
      "cell_type": "code",
      "source": [
        "# Calculadora de tensão pico-a-pico com valor RMS. PS: RMS é obtido do LT-SPICE\n",
        "import math\n",
        "rms = 32.158e-3 # Valor RMS obtido do LT-SPICE, CADA CASO É UM CASO...\n",
        "pico = math.sqrt(2) * rms\n",
        "pico_pico = 2*pico\n",
        "print(\"pico_pico: \", pico_pico)"
      ],
      "metadata": {
        "colab": {
          "base_uri": "https://localhost:8080/"
        },
        "id": "H9jsgKLMQDaf",
        "outputId": "8436a58f-ad59-4dcc-98fb-6637a992c2ef"
      },
      "execution_count": 27,
      "outputs": [
        {
          "output_type": "stream",
          "name": "stdout",
          "text": [
            "pico_pico:  0.09095655947758799\n"
          ]
        }
      ]
    },
    {
      "cell_type": "code",
      "source": [
        "# Calculadora de ganho lido\n",
        "Vopp = 9.763\n",
        "Vspp = 0.091\n",
        "Avlido = Vopp / Vspp\n",
        "print(\"Ganho Lido: \", Avlido)"
      ],
      "metadata": {
        "colab": {
          "base_uri": "https://localhost:8080/"
        },
        "id": "TziGgumsQ6n6",
        "outputId": "4a5e1d5d-2eae-4aa6-8678-50fbf4d3fd87"
      },
      "execution_count": 30,
      "outputs": [
        {
          "output_type": "stream",
          "name": "stdout",
          "text": [
            "Ganho Lido:  107.28571428571429\n"
          ]
        }
      ]
    },
    {
      "cell_type": "code",
      "source": [
        "# Calculadora de ganho calculado\n",
        "rf = 16e3 #No nosso caso do amp não inversor é o resistor R2\n",
        "r1 = 150\n",
        "ganho = 1 + (rf / r1)\n",
        "print(\"Ganho Calculado: \", ganho)"
      ],
      "metadata": {
        "colab": {
          "base_uri": "https://localhost:8080/"
        },
        "id": "cGeobwgTWJv_",
        "outputId": "c00ab607-886c-4a67-dfab-161cd1dbc3ce"
      },
      "execution_count": 31,
      "outputs": [
        {
          "output_type": "stream",
          "name": "stdout",
          "text": [
            "Ganho Calculado:  107.66666666666667\n"
          ]
        }
      ]
    }
  ]
}